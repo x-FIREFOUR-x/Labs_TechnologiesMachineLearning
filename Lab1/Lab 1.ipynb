{
 "cells": [
  {
   "cell_type": "markdown",
   "metadata": {},
   "source": [
    "# Lab 1 - Convolutional neural networks"
   ]
  },
  {
   "cell_type": "markdown",
   "metadata": {},
   "source": [
    "### Task 1 (15 points)\n",
    "Select the dataset:\n",
    "- [CIFAR-100](https://www.cs.toronto.edu/~kriz/cifar.html)\n",
    "\n",
    "Extra credit for the dataset below\n",
    "- [ImageNet](http://www.image-net.org/) *\n",
    "- [300-W](https://ibug.doc.ic.ac.uk/resources/facial-point-annotations/)\n",
    "- [IMDB-WIKI](https://data.vision.ee.ethz.ch/cvl/rrothe/imdb-wiki/) *\n",
    "- [UTKFace](https://susanqq.github.io/UTKFace/)\n",
    "- Any other, but in this case, please check with me. For example, something from [here](https://huggingface.co/datasets?task_categories=task_categories:image-classification) or [here](https://www.tensorflow.org/datasets/catalog/overview).\n",
    "\n",
    "<i>*since the dataset is very large, you can take a part of it</i>\n",
    "\n",
    "Choose an architecture:\n",
    "- VGGNet\n",
    "- Inception (v1-v4)\n",
    "- Inception-ResNet-v2\n",
    "- ResNet\n",
    "- Xception\n",
    "- Any other, but in this case, please coordinate with me\n",
    "\n",
    "Solve a classification or regression problem with the selected architecture for the selected dataset. Implement a neural network from scratch, you cannot take a ready-made one.\n",
    "\n",
    "It is highly recommended to train on GPU. If you do not have a CUDA-compatible video card, use [Google Collaboratory](https://colab.research.google.com)."
   ]
  },
  {
   "cell_type": "markdown",
   "metadata": {
    "ExecuteTime": {
     "end_time": "2020-03-30T10:17:28.957354Z",
     "start_time": "2020-03-30T10:17:28.940323Z"
    }
   },
   "source": [
    "### Task 1 (alternative) (15 points + bonus on the exam :))\n",
    "\n",
    "Choose something from the list:\n",
    "- Solve the problem of finding objects in an image:\n",
    "    - [Faces](https://www.tensorflow.org/datasets/catalog/wider_face)\n",
    "    - [Traffic objects](https://www.tensorflow.org/datasets/catalog/kitti)\n",
    "    - Something [from here](https://huggingface.co/datasets?task_categories=task_categories:object-detection&sort=downloads)\n",
    "    - Your choice\n",
    "- Semantic segmentation:\n",
    "    - [MRI brain scans](https://www.kaggle.com/mateuszbuda/lgg-mri-segmentation)\n",
    "    - [Traffic objects](https://www.tensorflow.org/datasets/catalog/kitti)\n",
    "    - Something [from here](https://huggingface.co/datasets?task_categories=task_categories:image-segmentation&sort=downloads)\n",
    "    - Your choice"
   ]
  },
  {
   "cell_type": "markdown",
   "metadata": {},
   "source": [
    "### Task 2 (15 points)\n",
    "Prepare your trained model for deployment:\n",
    "- **(5 points)** Convert model to Tensorflow Lite or ONNX;\n",
    "- **(5 points)** Setup the inference API server using any web-framework (Flask, FastAPI, etc.).\n",
    "  The inference API must contain `/predict` endpoint, which accepts an image and returns model prediction;\n",
    "- **(5 points)** Create Docker image for the inference API.\n",
    "\n",
    "Prepare a report demonstrating the process of running and querying the API"
   ]
  }
 ],
 "metadata": {
  "kernelspec": {
   "display_name": "Python 3 (ipykernel)",
   "language": "python",
   "name": "python3"
  },
  "language_info": {
   "codemirror_mode": {
    "name": "ipython",
    "version": 3
   },
   "file_extension": ".py",
   "mimetype": "text/x-python",
   "name": "python",
   "nbconvert_exporter": "python",
   "pygments_lexer": "ipython3",
   "version": "3.13.2"
  },
  "varInspector": {
   "cols": {
    "lenName": 16,
    "lenType": 16,
    "lenVar": 40
   },
   "kernels_config": {
    "python": {
     "delete_cmd_postfix": "",
     "delete_cmd_prefix": "del ",
     "library": "var_list.py",
     "varRefreshCmd": "print(var_dic_list())"
    },
    "r": {
     "delete_cmd_postfix": ") ",
     "delete_cmd_prefix": "rm(",
     "library": "var_list.r",
     "varRefreshCmd": "cat(var_dic_list()) "
    }
   },
   "types_to_exclude": [
    "module",
    "function",
    "builtin_function_or_method",
    "instance",
    "_Feature"
   ],
   "window_display": false
  }
 },
 "nbformat": 4,
 "nbformat_minor": 4
}
